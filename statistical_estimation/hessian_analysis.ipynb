{
 "cells": [
  {
   "cell_type": "code",
   "execution_count": 1,
   "metadata": {},
   "outputs": [],
   "source": [
    "import pennylane as qml\n",
    "import numpy as np\n",
    "from qiskit import IBMQ\n",
    "import itertools\n",
    "import matplotlib.pyplot as plt"
   ]
  },
  {
   "cell_type": "code",
   "execution_count": 2,
   "metadata": {},
   "outputs": [
    {
     "data": {
      "text/plain": [
       "tensor([2.73943676, 0.16289932, 3.4536312 , 2.73521126, 2.6412488 ], requires_grad=True)"
      ]
     },
     "execution_count": 2,
     "metadata": {},
     "output_type": "execute_result"
    }
   ],
   "source": [
    "seed = 2\n",
    "\n",
    "weights = qml.init.basic_entangler_layers_uniform(n_layers=1, n_wires=5, seed=seed).flatten()\n",
    "weights"
   ]
  },
  {
   "cell_type": "code",
   "execution_count": 3,
   "metadata": {},
   "outputs": [],
   "source": [
    "datafile_hw = \"results_hw.pickle\"\n",
    "datafile_sim = \"results_sim.pickle\""
   ]
  },
  {
   "cell_type": "code",
   "execution_count": 4,
   "metadata": {},
   "outputs": [],
   "source": [
    "import pickle"
   ]
  },
  {
   "cell_type": "code",
   "execution_count": 5,
   "metadata": {},
   "outputs": [],
   "source": [
    "s = 0.5 * np.pi\n",
    "denom = 4 * np.sin(s) ** 2\n",
    "shift = np.eye(len(weights))\n",
    "\n",
    "def get_hess(weights, file):\n",
    "    hess = np.zeros((len(weights), len(weights)))\n",
    "    \n",
    "    with open(file, \"rb\") as f:\n",
    "        results = pickle.load(f)\n",
    "    \n",
    "    for c in itertools.combinations(range(len(weights)), r=2):\n",
    "        r = results.get(c)\n",
    "        if r:\n",
    "            hess[c] = (r[0] - r[1] - r[2] + r[3]) / denom\n",
    "    \n",
    "    hess = hess + hess.T\n",
    "    \n",
    "    for i in range(len(weights)):\n",
    "        r = results.get((i, i))\n",
    "        if r:\n",
    "            hess[i, i] = (r[0] + r[1] - 2 * r[2]) / 2\n",
    "    \n",
    "    return hess    "
   ]
  },
  {
   "cell_type": "code",
   "execution_count": 6,
   "metadata": {},
   "outputs": [
    {
     "data": {
      "text/plain": [
       "array([[ 0.695,  0.085,  0.026, -0.138, -0.003],\n",
       "       [ 0.085,  0.596, -0.02 ,  0.058,  0.001],\n",
       "       [ 0.026, -0.02 ,  0.665,  0.096, -0.028],\n",
       "       [-0.138,  0.058,  0.096,  0.691, -0.012],\n",
       "       [-0.003,  0.001, -0.028, -0.012,  0.012]])"
      ]
     },
     "execution_count": 6,
     "metadata": {},
     "output_type": "execute_result"
    }
   ],
   "source": [
    "hess_hw = get_hess(weights, datafile_hw)\n",
    "np.around(hess_hw, 3)"
   ]
  },
  {
   "cell_type": "code",
   "execution_count": 7,
   "metadata": {},
   "outputs": [
    {
     "data": {
      "text/plain": [
       "array([[ 0.794,  0.055,  0.109, -0.145,  0.   ],\n",
       "       [ 0.055,  0.794, -0.042,  0.056, -0.   ],\n",
       "       [ 0.109, -0.042,  0.794,  0.11 ,  0.   ],\n",
       "       [-0.145,  0.056,  0.11 ,  0.794,  0.   ],\n",
       "       [ 0.   , -0.   ,  0.   ,  0.   , -0.   ]])"
      ]
     },
     "execution_count": 7,
     "metadata": {},
     "output_type": "execute_result"
    }
   ],
   "source": [
    "hess_sim = get_hess(weights, datafile_sim)\n",
    "np.around(hess_sim, 3)"
   ]
  },
  {
   "cell_type": "code",
   "execution_count": 8,
   "metadata": {},
   "outputs": [],
   "source": [
    "hess_hw_4 = hess_hw[:4, :4]\n",
    "hess_sim_4 = hess_sim[:4, :4]\n",
    "\n",
    "rel = np.abs((hess_hw_4 - hess_sim_4) / hess_sim_4)\n",
    "mse = np.abs(hess_hw - hess_sim)"
   ]
  },
  {
   "cell_type": "code",
   "execution_count": 10,
   "metadata": {},
   "outputs": [
    {
     "data": {
      "image/png": "[encoded data removed]",
      "text/plain": [
       "<Figure size 432x288 with 2 Axes>"
      ]
     },
     "metadata": {
      "needs_background": "light"
     },
     "output_type": "display_data"
    }
   ],
   "source": [
    "import matplotlib.cm as cm\n",
    "plt.imshow(rel,cmap=cm.summer)\n",
    "\n",
    "for i in range(4):\n",
    "    for j in range(4):\n",
    "        text = plt.text(j, i, np.round(rel[i, j], 2),\n",
    "                       ha=\"center\", va=\"center\", color=\"black\", fontsize=12)\n",
    "\n",
    "plt.axis('off')\n",
    "cbar = plt.colorbar()\n",
    "cbar.ax.tick_params(labelsize=12) \n",
    "plt.tight_layout()\n",
    "plt.savefig(\"relative_hess.pdf\")"
   ]
  }
 ],
 "metadata": {
  "kernelspec": {
   "display_name": "Python 3",
   "language": "python",
   "name": "python3"
  },
  "language_info": {
   "codemirror_mode": {
    "name": "ipython",
    "version": 3
   },
   "file_extension": ".py",
   "mimetype": "text/x-python",
   "name": "python",
   "nbconvert_exporter": "python",
   "pygments_lexer": "ipython3",
   "version": "3.7.7"
  }
 },
 "nbformat": 4,
 "nbformat_minor": 4
}
