{
 "cells": [
  {
   "cell_type": "markdown",
   "metadata": {},
   "source": [
    "# Calculating the Hessian on simulator"
   ]
  },
  {
   "cell_type": "code",
   "execution_count": 1,
   "metadata": {},
   "outputs": [],
   "source": [
    "import pennylane as qml\n",
    "import numpy as np\n",
    "from qiskit import IBMQ\n",
    "import itertools\n",
    "import matplotlib.pyplot as plt"
   ]
  },
  {
   "cell_type": "code",
   "execution_count": 2,
   "metadata": {},
   "outputs": [],
   "source": [
    "datafile = \"results_sim.pickle\""
   ]
  },
  {
   "cell_type": "markdown",
   "metadata": {},
   "source": [
    "## Hardware-friendly circuit"
   ]
  },
  {
   "cell_type": "code",
   "execution_count": 3,
   "metadata": {},
   "outputs": [],
   "source": [
    "n_wires = 5"
   ]
  },
  {
   "cell_type": "code",
   "execution_count": 4,
   "metadata": {},
   "outputs": [],
   "source": [
    "dev = qml.device(\"default.qubit\", wires=n_wires)"
   ]
  },
  {
   "cell_type": "code",
   "execution_count": 5,
   "metadata": {},
   "outputs": [],
   "source": [
    "@qml.qnode(dev)\n",
    "def layers(weights):\n",
    "    for i in range(n_wires):\n",
    "        qml.RX(weights[i], wires=i)\n",
    "\n",
    "    qml.CNOT(wires=[0, 1])\n",
    "    qml.CNOT(wires=[2, 1])\n",
    "    qml.CNOT(wires=[3, 1])\n",
    "    qml.CNOT(wires=[4, 3])\n",
    "    return qml.expval(qml.PauliZ(1))"
   ]
  },
  {
   "cell_type": "code",
   "execution_count": 6,
   "metadata": {},
   "outputs": [
    {
     "data": {
      "text/plain": [
       "tensor([2.73943676, 0.16289932, 3.4536312 , 2.73521126, 2.6412488 ], requires_grad=True)"
      ]
     },
     "execution_count": 6,
     "metadata": {},
     "output_type": "execute_result"
    }
   ],
   "source": [
    "seed = 2\n",
    "\n",
    "weights = qml.init.basic_entangler_layers_uniform(n_layers=1, n_wires=5, seed=seed).flatten()\n",
    "weights"
   ]
  },
  {
   "cell_type": "code",
   "execution_count": 7,
   "metadata": {},
   "outputs": [],
   "source": [
    "grad = qml.grad(layers, argnum=0)"
   ]
  },
  {
   "cell_type": "code",
   "execution_count": 8,
   "metadata": {},
   "outputs": [
    {
     "data": {
      "text/plain": [
       "-0.7938055593697134"
      ]
     },
     "execution_count": 8,
     "metadata": {},
     "output_type": "execute_result"
    }
   ],
   "source": [
    "layers(weights)"
   ]
  },
  {
   "cell_type": "code",
   "execution_count": 9,
   "metadata": {},
   "outputs": [
    {
     "data": {
      "text/plain": [
       "array([-0.3376347,  0.1304665,  0.2560632, -0.3416029,  0.       ])"
      ]
     },
     "execution_count": 9,
     "metadata": {},
     "output_type": "execute_result"
    }
   ],
   "source": [
    "np.round(grad(weights), 7)"
   ]
  },
  {
   "cell_type": "markdown",
   "metadata": {},
   "source": [
    "## Calculating the Hessian"
   ]
  },
  {
   "cell_type": "code",
   "execution_count": 10,
   "metadata": {},
   "outputs": [],
   "source": [
    "import pickle"
   ]
  },
  {
   "cell_type": "code",
   "execution_count": 11,
   "metadata": {},
   "outputs": [],
   "source": [
    "s = 0.5 * np.pi\n",
    "denom = 4 * np.sin(s) ** 2\n",
    "shift = np.eye(len(weights))\n",
    "\n",
    "\n",
    "def hess_gen_results(weights):\n",
    "    \n",
    "    try:\n",
    "        with open(datafile, \"rb\") as f:\n",
    "            results = pickle.load(f)\n",
    "    except:\n",
    "        results = {}\n",
    "    \n",
    "    for c in itertools.combinations(range(len(weights)), r=2):\n",
    "        print(c)\n",
    "        if not results.get(c):\n",
    "            weights_pp = weights + s * (shift[c[0]] + shift[c[1]])\n",
    "            weights_pm = weights + s * (shift[c[0]] - shift[c[1]])\n",
    "            weights_mp = weights - s * (shift[c[0]] - shift[c[1]])\n",
    "            weights_mm = weights - s * (shift[c[0]] + shift[c[1]])\n",
    "\n",
    "            f_pp = layers(weights_pp)\n",
    "            f_pm = layers(weights_pm)\n",
    "            f_mp = layers(weights_mp)\n",
    "            f_mm = layers(weights_mm)\n",
    "            results[c] = (f_pp, f_mp, f_pm, f_mm)\n",
    "\n",
    "            with open(datafile, \"wb\") as f:\n",
    "                pickle.dump(results, f)\n",
    "    \n",
    "    for i in range(len(weights)):\n",
    "        print((i, i))\n",
    "        if not results.get((i, i)):\n",
    "            f_p = layers(weights + 0.5 * np.pi * shift[i])\n",
    "            f_m = layers(weights - 0.5 * np.pi * shift[i])\n",
    "            f = layers(weights)\n",
    "\n",
    "            results[(i, i)] = (f_p, f_m, f)\n",
    "\n",
    "            with open(datafile, \"wb\") as f:\n",
    "                pickle.dump(results, f)\n",
    "        \n",
    "\n",
    "def get_hess(weights):\n",
    "    hess = np.zeros((len(weights), len(weights)))\n",
    "    \n",
    "    with open(datafile, \"rb\") as f:\n",
    "        results = pickle.load(f)\n",
    "    \n",
    "    for c in itertools.combinations(range(len(weights)), r=2):\n",
    "        r = results[c]\n",
    "        hess[c] = (r[0] - r[1] - r[2] + r[3]) / denom\n",
    "    \n",
    "    hess = hess + hess.T\n",
    "    \n",
    "    for i in range(len(weights)):\n",
    "        r = results[(i, i)]\n",
    "        hess[i, i] = (r[0] + r[1] - 2 * r[2]) / 2\n",
    "    \n",
    "    return hess       "
   ]
  },
  {
   "cell_type": "code",
   "execution_count": 12,
   "metadata": {},
   "outputs": [
    {
     "name": "stdout",
     "output_type": "stream",
     "text": [
      "(0, 1)\n",
      "(0, 2)\n",
      "(0, 3)\n",
      "(0, 4)\n",
      "(1, 2)\n",
      "(1, 3)\n",
      "(1, 4)\n",
      "(2, 3)\n",
      "(2, 4)\n",
      "(3, 4)\n",
      "(0, 0)\n",
      "(1, 1)\n",
      "(2, 2)\n",
      "(3, 3)\n",
      "(4, 4)\n"
     ]
    }
   ],
   "source": [
    "hess_gen_results(weights)"
   ]
  },
  {
   "cell_type": "code",
   "execution_count": 13,
   "metadata": {},
   "outputs": [
    {
     "data": {
      "text/plain": [
       "array([[ 0.794,  0.055,  0.109, -0.145,  0.   ],\n",
       "       [ 0.055,  0.794, -0.042,  0.056, -0.   ],\n",
       "       [ 0.109, -0.042,  0.794,  0.11 ,  0.   ],\n",
       "       [-0.145,  0.056,  0.11 ,  0.794,  0.   ],\n",
       "       [ 0.   , -0.   ,  0.   ,  0.   , -0.   ]])"
      ]
     },
     "execution_count": 13,
     "metadata": {},
     "output_type": "execute_result"
    }
   ],
   "source": [
    "hess = get_hess(weights)\n",
    "np.around(hess, 3)"
   ]
  }
 ],
 "metadata": {
  "kernelspec": {
   "display_name": "Python 3",
   "language": "python",
   "name": "python3"
  },
  "language_info": {
   "codemirror_mode": {
    "name": "ipython",
    "version": 3
   },
   "file_extension": ".py",
   "mimetype": "text/x-python",
   "name": "python",
   "nbconvert_exporter": "python",
   "pygments_lexer": "ipython3",
   "version": "3.7.7"
  }
 },
 "nbformat": 4,
 "nbformat_minor": 4
}
