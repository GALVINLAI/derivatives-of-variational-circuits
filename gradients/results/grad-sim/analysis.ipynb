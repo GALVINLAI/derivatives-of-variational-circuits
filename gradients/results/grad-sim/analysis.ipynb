{
 "cells": [
  {
   "cell_type": "code",
   "execution_count": 3,
   "metadata": {},
   "outputs": [],
   "source": [
    "import sys\n",
    "import pickle\n",
    "import numpy as np\n",
    "import matplotlib.pyplot as plt\n",
    "\n",
    "sys.path.append(\"../..\")\n",
    "import gradient_analyze as ga\n",
    "import hp_file"
   ]
  },
  {
   "cell_type": "code",
   "execution_count": 4,
   "metadata": {},
   "outputs": [],
   "source": [
    "g = np.array([-0.3376,  0.1305,  0.2561, -0.3416,  0.    ])\n",
    "f = -g\n",
    "\n",
    "sigma0 = 0.37001625825528\n",
    "\n",
    "def lam(N):\n",
    "    return 1 / (1 + (len(g) * sigma0 ** 2 / (2 * N * np.sum(g ** 2))))"
   ]
  },
  {
   "cell_type": "code",
   "execution_count": 3,
   "metadata": {},
   "outputs": [],
   "source": [
    "filename = './results.pickle'\n",
    "\n",
    "with open(filename, \"rb\") as file:\n",
    "    results = pickle.load(file)"
   ]
  },
  {
   "cell_type": "code",
   "execution_count": 6,
   "metadata": {},
   "outputs": [],
   "source": [
    "f = lambda x, y: np.sum((np.array(x, dtype=\"float64\") - np.array(y, dtype=\"float64\")) ** 2)\n",
    "\n",
    "ga.calculate_new_quantity(['g_fd', 'g_ex'], 'g_fd_err', f, results, hp_file)\n",
    "ga.calculate_new_quantity(['g_ps', 'g_ex'], 'g_ps_err', f, results, hp_file)"
   ]
  },
  {
   "cell_type": "code",
   "execution_count": 8,
   "metadata": {},
   "outputs": [],
   "source": [
    "results_processed = ga.avg_quantities(['g_fd_err', 'g_ps_err'], results, hp_file)"
   ]
  },
  {
   "cell_type": "code",
   "execution_count": 9,
   "metadata": {},
   "outputs": [],
   "source": [
    "results_processed_accessed = ga.access_quantities(['g_fd_err', 'g_ps_err'], results, hp_file)"
   ]
  },
  {
   "cell_type": "code",
   "execution_count": 11,
   "metadata": {},
   "outputs": [],
   "source": [
    "with open('results_processed.pickle', \"wb\") as file:\n",
    "    pickle.dump(results_processed, file)"
   ]
  },
  {
   "cell_type": "code",
   "execution_count": 12,
   "metadata": {},
   "outputs": [],
   "source": [
    "with open('results_processed_accessed.pickle', \"wb\") as file:\n",
    "    pickle.dump(results_processed_accessed, file)"
   ]
  },
  {
   "cell_type": "code",
   "execution_count": 13,
   "metadata": {},
   "outputs": [],
   "source": [
    "with open('results_processed_accessed_ang.pickle', \"wb\") as file:\n",
    "    pickle.dump(results_processed_accessed_ang, file)"
   ]
  },
  {
   "cell_type": "code",
   "execution_count": 5,
   "metadata": {},
   "outputs": [],
   "source": [
    "with open('results_processed.pickle', \"rb\") as file:\n",
    "    results_processed = pickle.load(file)"
   ]
  },
  {
   "cell_type": "code",
   "execution_count": 6,
   "metadata": {},
   "outputs": [],
   "source": [
    "with open('results_processed_accessed.pickle', \"rb\") as file:\n",
    "    results_processed_accessed = pickle.load(file)"
   ]
  },
  {
   "cell_type": "code",
   "execution_count": 8,
   "metadata": {},
   "outputs": [],
   "source": [
    "cols = plt.rcParams['axes.prop_cycle'].by_key()['color']"
   ]
  },
  {
   "cell_type": "code",
   "execution_count": 9,
   "metadata": {},
   "outputs": [],
   "source": [
    "coeffs = np.load(\"../grad-sim-fitting/coeffs.npy\")"
   ]
  },
  {
   "cell_type": "code",
   "execution_count": 10,
   "metadata": {},
   "outputs": [],
   "source": [
    "hlist = [0.05, 0.06, 0.08, 0.1 , 0.12, 0.14, 0.16, 0.18, 0.2 , 0.22, 0.24,\n",
    "       0.26, 0.28, 0.31, 0.33, 0.35, 0.37, 0.39, 0.41, 0.43, 0.44, 0.45,\n",
    "       0.47, 0.49, 0.51, 0.53, 0.55, 0.57, 0.59, 0.61, 0.63, 0.65, 0.67,\n",
    "       0.69, 0.71, 0.73, 0.75, 0.77, 0.8 , 0.82, 0.83, 0.84, 0.86, 0.88,\n",
    "       0.9 , 0.92, 0.94, 0.96, 0.98, 1.  , 1.02, 1.04, 1.06, 1.08, 1.1 ,\n",
    "       1.12, 1.14, 1.16, 1.18, 1.2 , 1.22, 1.22, 1.24, 1.27, 1.29, 1.31,\n",
    "       1.33, 1.35, 1.37, 1.39, 1.41, 1.43, 1.45, 1.47, 1.49, 1.51, 1.53,\n",
    "       1.55, 1.57, 1.59, 1.61, 1.63, 1.65, 1.67, 1.69, 1.71, 1.73,\n",
    "       1.76, 1.78, 1.8 , 1.82, 1.84, 1.86, 1.88, 1.9 , 1.92, 1.94, 1.96,\n",
    "       1.98, 2.  ]"
   ]
  },
  {
   "cell_type": "code",
   "execution_count": 12,
   "metadata": {},
   "outputs": [],
   "source": [
    "coeffs = {hlist[i]: c for i, c in enumerate(coeffs)}"
   ]
  },
  {
   "cell_type": "code",
   "execution_count": 13,
   "metadata": {},
   "outputs": [],
   "source": [
    "def delta_fd_h(h, N):\n",
    "    t1 = coeffs[h] / (4 * N * h ** 2 * len(f))\n",
    "    t2 = f ** 2 * h ** 4 / 36\n",
    "    return t1 + t2\n",
    "\n",
    "def delta_fd(h, N):\n",
    "    return np.array([delta_fd_h(h_, N) for h_ in h])\n",
    "\n",
    "def h_fd_opt(N):\n",
    "    \n",
    "    numerator = 9 * len(f) * sigma0\n",
    "    denominator = N * np.sum(f ** 2)\n",
    "    \n",
    "    return np.power(numerator / denominator, 1 / 6)\n",
    "\n",
    "def delta_ps(h, N):\n",
    "    return [coeffs[h_] / (4 * N * np.sin(h_) ** 2 ) for h_ in h]\n",
    "\n",
    "def delta_ps_opt(N):\n",
    "    return delta_ps([1.57], N)[0]\n",
    "\n",
    "def delta(h, N):\n",
    "    f_big = np.expand_dims(f, axis=0)\n",
    "    h_big = np.expand_dims(h, axis=1)\n",
    "    t1 = sigma0 / (2 * N * h_big ** 2)\n",
    "    t2 = f_big ** 2 * h_big ** 4 / 36\n",
    "    return t1 + t2"
   ]
  },
  {
   "cell_type": "code",
   "execution_count": 14,
   "metadata": {},
   "outputs": [
    {
     "data": {
      "text/plain": [
       "0.37001625825528"
      ]
     },
     "execution_count": 14,
     "metadata": {},
     "output_type": "execute_result"
    }
   ],
   "source": [
    "sigma0"
   ]
  },
  {
   "cell_type": "code",
   "execution_count": 16,
   "metadata": {},
   "outputs": [
    {
     "name": "stdout",
     "output_type": "stream",
     "text": [
      "1000\n"
     ]
    },
    {
     "data": {
      "image/png": "[encoded data removed]",
      "text/plain": [
       "<Figure size 432x288 with 1 Axes>"
      ]
     },
     "metadata": {
      "needs_background": "light"
     },
     "output_type": "display_data"
    }
   ],
   "source": [
    "n_shots = [10, 14, 20, 29, 41, 59, 84, 100, 119, 170, 242, 346, 492, 702, 1000, 1425, 2031, 2894,\n",
    "           4125, 5878, 8192, 8377, 11938, 17013, 24245, 34551, 49239, 70170, 100000][14]\n",
    "print(n_shots)\n",
    "\n",
    "results_slice = ga.calculate_slice({\"n_shots\": n_shots}, results_processed)\n",
    "results_slice_acc = ga.calculate_slice({\"n_shots\": n_shots}, results_processed_accessed)\n",
    "x, y_fd = ga.make_numpy(results_slice, \"h\", \"g_fd_err\")\n",
    "x, y_ps = ga.make_numpy(results_slice, \"h\", \"g_ps_err\")\n",
    "\n",
    "stds_fd = []\n",
    "stds_ps = []\n",
    "\n",
    "for h in x:\n",
    "    errors = list(ga.calculate_slice({\"h\": h}, results_slice_acc).values())[0]\n",
    "    errors_fd = errors[\"g_fd_err\"]\n",
    "    errors_ps = errors[\"g_ps_err\"]\n",
    "    \n",
    "    stds_fd.append(np.std(errors_fd))\n",
    "    stds_ps.append(np.std(errors_ps))\n",
    "\n",
    "stds_fd = np.array(stds_fd)\n",
    "stds_ps = np.array(stds_ps)\n",
    "\n",
    "fd_pred = np.sum(delta_fd(x, n_shots), axis=1)\n",
    "ps_pred = delta_ps(x, n_shots)\n",
    "\n",
    "hopt = h_fd_opt(n_shots)\n",
    "\n",
    "plt.fill_between(x, y_fd - stds_fd, y_fd + stds_fd, color=cols[0], alpha=0.1)\n",
    "plt.fill_between(x, y_ps - stds_ps, y_ps + stds_ps, color=cols[1], alpha=0.1)\n",
    "plt.plot(x, fd_pred, \"--\", c=\"black\", alpha=0.4)\n",
    "plt.plot(x, y_fd, label=\"finite-difference\", c=cols[0])\n",
    "plt.plot(x, y_ps, label=\"parameter-shift\", c=cols[1])\n",
    "plt.plot(x, ps_pred, \"--\", c=\"black\", alpha=0.4)\n",
    "plt.axvline(hopt, c=\"black\", alpha=0.4, linestyle=\":\", ymax=0.5)\n",
    "plt.axvline(np.pi / 2, c=\"black\", alpha=0.4, linestyle=\":\", ymax=0.3)\n",
    "plt.xlabel('step size', fontsize=20)\n",
    "plt.ylabel('MSE', fontsize=20)\n",
    "plt.xscale(\"log\")\n",
    "plt.tick_params(labelsize=15)\n",
    "plt.legend(fontsize=12)\n",
    "\n",
    "plt.yscale(\"log\")\n",
    "\n",
    "plt.title(\"(A)\", loc=\"left\", fontsize=15)\n",
    "plt.tight_layout()\n",
    "plt.savefig(\"fd-vs-ps-simulator.pdf\")\n",
    "# plt.ylim(10**-5.25, 10**(-0.95))"
   ]
  },
  {
   "cell_type": "code",
   "execution_count": 17,
   "metadata": {},
   "outputs": [
    {
     "data": {
      "text/plain": [
       "0.6131730103358078"
      ]
     },
     "execution_count": 17,
     "metadata": {},
     "output_type": "execute_result"
    }
   ],
   "source": [
    "hopt"
   ]
  },
  {
   "cell_type": "code",
   "execution_count": 18,
   "metadata": {},
   "outputs": [
    {
     "name": "stdout",
     "output_type": "stream",
     "text": [
      "-1.9640487008096974\n"
     ]
    }
   ],
   "source": [
    "max_point = 8\n",
    "y_fit_low = np.log(y_fd[:max_point])\n",
    "x_fit_low = np.log(x[:max_point])\n",
    "\n",
    "p = np.polyfit(x_fit_low, y_fit_low, 1)\n",
    "print(p[0])\n",
    "\n",
    "y_fit_low = p[0] * np.log(x) + p[1]\n",
    "y_fit_low = np.exp(y_fit_low)"
   ]
  },
  {
   "cell_type": "code",
   "execution_count": 20,
   "metadata": {},
   "outputs": [
    {
     "name": "stdout",
     "output_type": "stream",
     "text": [
      "3.282018644171291\n"
     ]
    }
   ],
   "source": [
    "min_point = 80\n",
    "max_point = 99\n",
    "y_fit_high = np.log(y_fd[min_point:max_point])\n",
    "x_fit_high = np.log(x[min_point:max_point])\n",
    "\n",
    "pp = np.polyfit(x_fit_high, y_fit_high, 1)\n",
    "print(pp[0])\n",
    "\n",
    "y_fit_high = pp[0] * np.log(x) + pp[1]\n",
    "y_fit_high = np.exp(y_fit_high)"
   ]
  },
  {
   "cell_type": "code",
   "execution_count": 22,
   "metadata": {},
   "outputs": [
    {
     "name": "stdout",
     "output_type": "stream",
     "text": [
      "2.3735501846406324\n"
     ]
    }
   ],
   "source": [
    "min_point = 40\n",
    "max_point = 50\n",
    "y_fit_high_ = np.log(y_fd[min_point:max_point])\n",
    "x_fit_high_ = np.log(x[min_point:max_point])\n",
    "\n",
    "ppp = np.polyfit(x_fit_high_, y_fit_high_, 1)\n",
    "print(ppp[0])\n",
    "\n",
    "y_fit_high_ = ppp[0] * np.log(x) + ppp[1]\n",
    "y_fit_high_ = np.exp(y_fit_high_)"
   ]
  },
  {
   "cell_type": "code",
   "execution_count": 24,
   "metadata": {},
   "outputs": [],
   "source": [
    "h_opt_fd_list = []\n",
    "h_opt_ps_list = []\n",
    "\n",
    "n_shots_list = [10, 14, 20, 29, 41, 59, 84, 100, 119, 170, 242, 346, 492, 702, 1000, 1425, 2031, 2894,\n",
    "           4125, 5878, 8192, 8377, 11938, 17013, 24245, 34551, 49239, 70170, 100000]\n",
    "\n",
    "mins_fd = []\n",
    "mins_ps = []\n",
    "\n",
    "for n_shots in n_shots_list:\n",
    "\n",
    "    results_slice = ga.calculate_slice({\"n_shots\": n_shots}, results_processed)\n",
    "    results_slice_acc = ga.calculate_slice({\"n_shots\": n_shots}, results_processed_accessed)\n",
    "    x, y_fd = ga.make_numpy(results_slice, \"h\", \"g_fd_err\")\n",
    "    x, y_ps = ga.make_numpy(results_slice, \"h\", \"g_ps_err\")\n",
    "    \n",
    "    y_fd_min = np.min(y_fd)\n",
    "    y_ps_min = np.min(y_ps)\n",
    "    \n",
    "    xs_fd = x[np.argwhere(np.abs(y_fd - y_fd_min) < y_fd_min * 0.2).flatten()]\n",
    "    xs_ps = x[np.argwhere(np.abs(y_ps - y_ps_min) < y_ps_min * 0.2).flatten()]\n",
    "\n",
    "    mins_fd.append(y_fd_min)\n",
    "    mins_ps.append(y_ps_min)\n",
    "    \n",
    "    h_opt_fd_list.append(xs_fd)\n",
    "    h_opt_ps_list.append(xs_ps)"
   ]
  },
  {
   "cell_type": "code",
   "execution_count": 25,
   "metadata": {},
   "outputs": [],
   "source": [
    "fd_mins = [np.min(x) for x in h_opt_fd_list]\n",
    "fd_maxs = [np.max(x) for x in h_opt_fd_list]\n",
    "fd_means = [np.mean(x) for x in h_opt_fd_list]\n",
    "\n",
    "ps_mins = [np.min(x) for x in h_opt_ps_list]\n",
    "ps_maxs = [np.max(x) for x in h_opt_ps_list]\n",
    "ps_means = [np.mean(x) for x in h_opt_ps_list]"
   ]
  },
  {
   "cell_type": "code",
   "execution_count": 26,
   "metadata": {},
   "outputs": [
    {
     "data": {
      "image/png": "[encoded data removed]",
      "text/plain": [
       "<Figure size 432x288 with 1 Axes>"
      ]
     },
     "metadata": {
      "needs_background": "light"
     },
     "output_type": "display_data"
    }
   ],
   "source": [
    "plt.fill_between(n_shots_list, fd_mins, fd_maxs, alpha=0.2)\n",
    "plt.fill_between(n_shots_list, ps_mins, ps_maxs, alpha=0.2)\n",
    "plt.plot(n_shots_list, fd_means, label=\"finite-difference\")\n",
    "plt.plot(n_shots_list, ps_means, label=\"parameter-shift\")\n",
    "plt.plot(n_shots_list, [h_fd_opt(n) for n in n_shots_list], \"--\", c=\"black\", alpha=0.4)\n",
    "plt.hlines(np.pi / 2, 10, 10**5, color=\"black\", alpha=0.4, linestyles=\"dashed\")\n",
    "plt.yscale(\"log\")\n",
    "plt.xscale(\"log\")\n",
    "plt.tick_params(labelsize=15)\n",
    "plt.legend(fontsize=12)\n",
    "plt.tight_layout()\n",
    "plt.xlabel('$N$', fontsize=20)\n",
    "plt.ylabel('optimal step size', fontsize=20)\n",
    "\n",
    "plt.tight_layout()\n",
    "plt.savefig(\"fd-vs-ps-simulator-opt-h.pdf\")"
   ]
  },
  {
   "cell_type": "code",
   "execution_count": 27,
   "metadata": {},
   "outputs": [],
   "source": [
    "opt_hs = [h_fd_opt(N) for N in n_shots_list]\n",
    "err_expected = [np.sum(delta([opt_hs[i]], N)) for i, N in enumerate(n_shots_list)]\n",
    "\n",
    "err_ps_expected = [delta_ps_opt(N) for N in n_shots_list]"
   ]
  },
  {
   "cell_type": "code",
   "execution_count": 28,
   "metadata": {},
   "outputs": [
    {
     "data": {
      "text/plain": [
       "50.0"
      ]
     },
     "execution_count": 28,
     "metadata": {},
     "output_type": "execute_result"
    }
   ],
   "source": [
    "crossover = np.argwhere(np.array(mins_fd) < np.array(mins_ps))[-1][0]\n",
    "\n",
    "cross = (n_shots_list[crossover] + n_shots_list[crossover + 1]) / 2\n",
    "cross"
   ]
  },
  {
   "cell_type": "code",
   "execution_count": 29,
   "metadata": {},
   "outputs": [
    {
     "data": {
      "image/png": "[encoded data removed]",
      "text/plain": [
       "<Figure size 432x288 with 1 Axes>"
      ]
     },
     "metadata": {
      "needs_background": "light"
     },
     "output_type": "display_data"
    }
   ],
   "source": [
    "plt.plot(n_shots_list, mins_fd, label=\"finite-difference\")\n",
    "plt.plot(n_shots_list, mins_ps, label=\"parameter-shift\")\n",
    "plt.plot(n_shots_list, err_expected, \"--\", c=\"black\", alpha=0.4)\n",
    "plt.plot(n_shots_list, err_ps_expected, \"--\", c=\"black\", alpha=0.4)\n",
    "plt.axvline(cross, c=\"black\", alpha=0.4, linestyle=\":\", ymax=0.9)\n",
    "\n",
    "# plt.plot(n_shots_list, [h_fd_opt(n) for n in n_shots_list], \"--\", c=\"black\", alpha=0.4)\n",
    "\n",
    "plt.yscale(\"log\")\n",
    "plt.xscale(\"log\")\n",
    "plt.tick_params(labelsize=15)\n",
    "plt.legend(fontsize=12)\n",
    "plt.tight_layout()\n",
    "plt.xlabel('$N$', fontsize=20)\n",
    "plt.ylabel('MSE', fontsize=20)\n",
    "plt.tight_layout()\n",
    "plt.savefig(\"fd-vs-ps-simulator-N.pdf\")"
   ]
  }
 ],
 "metadata": {
  "kernelspec": {
   "display_name": "Python 3",
   "language": "python",
   "name": "python3"
  },
  "language_info": {
   "codemirror_mode": {
    "name": "ipython",
    "version": 3
   },
   "file_extension": ".py",
   "mimetype": "text/x-python",
   "name": "python",
   "nbconvert_exporter": "python",
   "pygments_lexer": "ipython3",
   "version": "3.7.7"
  }
 },
 "nbformat": 4,
 "nbformat_minor": 4
}
