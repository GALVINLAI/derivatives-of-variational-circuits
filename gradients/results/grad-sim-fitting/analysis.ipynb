{
 "cells": [
  {
   "cell_type": "code",
   "execution_count": 1,
   "metadata": {},
   "outputs": [],
   "source": [
    "import sys\n",
    "import pickle\n",
    "import numpy as np\n",
    "import matplotlib.pyplot as plt\n",
    "\n",
    "sys.path.append(\"../..\")\n",
    "import gradient_analyze as ga\n",
    "import hp_file"
   ]
  },
  {
   "cell_type": "code",
   "execution_count": 2,
   "metadata": {},
   "outputs": [],
   "source": [
    "filename = './results.pickle'\n",
    "\n",
    "with open(filename, \"rb\") as file:\n",
    "    results = pickle.load(file)"
   ]
  },
  {
   "cell_type": "code",
   "execution_count": 3,
   "metadata": {},
   "outputs": [],
   "source": [
    "h_list = [0.05, 0.06, 0.08, 0.1 , 0.12, 0.14, 0.16, 0.18, 0.2 , 0.22, 0.24,\n",
    "       0.26, 0.28, 0.31, 0.33, 0.35, 0.37, 0.39, 0.41, 0.43, 0.44, 0.45,\n",
    "       0.47, 0.49, 0.51, 0.53, 0.55, 0.57, 0.59, 0.61, 0.63, 0.65, 0.67,\n",
    "       0.69, 0.71, 0.73, 0.75, 0.77, 0.8 , 0.82, 0.83, 0.84, 0.86, 0.88,\n",
    "       0.9 , 0.92, 0.94, 0.96, 0.98, 1.  , 1.02, 1.04, 1.06, 1.08, 1.1 ,\n",
    "       1.12, 1.14, 1.16, 1.18, 1.2 , 1.22, 1.22, 1.24, 1.27, 1.29, 1.31,\n",
    "       1.33, 1.35, 1.37, 1.39, 1.41, 1.43, 1.45, 1.47, 1.49, 1.51, 1.53,\n",
    "       1.55, 1.57, 1.59, 1.61, 1.63, 1.65, 1.67, 1.69, 1.71, 1.73,\n",
    "       1.76, 1.78, 1.8 , 1.82, 1.84, 1.86, 1.88, 1.9 , 1.92, 1.94, 1.96,\n",
    "       1.98, 2.  ]"
   ]
  },
  {
   "cell_type": "code",
   "execution_count": 31,
   "metadata": {},
   "outputs": [],
   "source": [
    "vars_plus = []\n",
    "vars_minus = []\n",
    "\n",
    "for h in h_list:\n",
    "    results_h = ga.calculate_slice({\"h\": h}, results)\n",
    "\n",
    "    vs_plus = []\n",
    "    vs_minus = []\n",
    "    for s in range(1000):\n",
    "        v = list(ga.calculate_slice({\"seed\": s}, results_h).values())[0]\n",
    "        vs_plus.append(v[\"fd_s_a\"])\n",
    "        vs_minus.append(v[\"fd_s_b\"])\n",
    "    \n",
    "    vs_plus = np.array(vs_plus)\n",
    "    vs_minus = np.array(vs_minus)\n",
    "    \n",
    "    vars_plus.append(np.var(np.array(vs_plus), axis=0))\n",
    "    vars_minus.append(np.var(np.array(vs_minus), axis=0))\n",
    "    \n",
    "vars_plus = np.array(vars_plus)\n",
    "vars_minus = np.array(vars_minus)"
   ]
  },
  {
   "cell_type": "code",
   "execution_count": 36,
   "metadata": {},
   "outputs": [],
   "source": [
    "coeffs = np.sum(vars_plus + vars_minus, axis=1)"
   ]
  },
  {
   "cell_type": "code",
   "execution_count": 38,
   "metadata": {},
   "outputs": [],
   "source": [
    "np.save(\"coeffs.npy\", coeffs)"
   ]
  },
  {
   "cell_type": "code",
   "execution_count": 41,
   "metadata": {},
   "outputs": [
    {
     "data": {
      "text/plain": [
       "array([0.3565328, 0.379674 , 0.3622572, 0.3734308, 0.3743276, 0.3579652,\n",
       "       0.384184 , 0.393012 , 0.3886108, 0.3876188, 0.39249  , 0.403824 ,\n",
       "       0.4084328, 0.4035028, 0.4088336, 0.423366 , 0.4221668, 0.4330632,\n",
       "       0.4402144, 0.443866 , 0.4416088, 0.445108 , 0.4599464, 0.4815368,\n",
       "       0.4773436, 0.4929708, 0.48456  , 0.4970492, 0.51095  , 0.523922 ,\n",
       "       0.5104612, 0.5382528, 0.5245568, 0.5385976, 0.5526912, 0.566996 ,\n",
       "       0.5713052, 0.580522 , 0.5758444, 0.6024836, 0.6148616, 0.6143392,\n",
       "       0.6201044, 0.6432136, 0.637476 , 0.6422104, 0.669574 , 0.6572412,\n",
       "       0.6740656, 0.663266 , 0.6933188, 0.6917792, 0.6961524, 0.7110392,\n",
       "       0.72165  , 0.7217016, 0.7212304, 0.7286216, 0.7479748, 0.7675856,\n",
       "       0.7581508, 0.7581508, 0.768496 , 0.775166 , 0.7765612, 0.7778924,\n",
       "       0.7921544, 0.798294 , 0.7959772, 0.7982216, 0.79398  , 0.789178 ,\n",
       "       0.8108432, 0.7952508, 0.8047764, 0.8079044, 0.810768 , 0.8098552,\n",
       "       0.8155544, 0.8176204, 0.8210744, 0.8049068, 0.8081496, 0.7953784,\n",
       "       0.8088724, 0.8033796, 0.7953704, 0.8014416, 0.7914872, 0.7913344,\n",
       "       0.7826912, 0.7842804, 0.7759988, 0.7720744, 0.7683836, 0.7661456,\n",
       "       0.7658972, 0.7473808, 0.7527872, 0.718794 ])"
      ]
     },
     "execution_count": 41,
     "metadata": {},
     "output_type": "execute_result"
    }
   ],
   "source": [
    "coeffs / 10"
   ]
  },
  {
   "cell_type": "code",
   "execution_count": 45,
   "metadata": {},
   "outputs": [],
   "source": [
    "ress = [r[\"exp_s\"] for r in results.values()]"
   ]
  },
  {
   "cell_type": "code",
   "execution_count": 46,
   "metadata": {},
   "outputs": [
    {
     "data": {
      "text/plain": [
       "-0.7937151515151515"
      ]
     },
     "execution_count": 46,
     "metadata": {},
     "output_type": "execute_result"
    }
   ],
   "source": [
    "np.mean(ress)"
   ]
  },
  {
   "cell_type": "code",
   "execution_count": 47,
   "metadata": {},
   "outputs": [
    {
     "data": {
      "text/plain": [
       "0.37001625825528"
      ]
     },
     "execution_count": 47,
     "metadata": {},
     "output_type": "execute_result"
    }
   ],
   "source": [
    "np.var(ress)"
   ]
  }
 ],
 "metadata": {
  "kernelspec": {
   "display_name": "Python 3",
   "language": "python",
   "name": "python3"
  },
  "language_info": {
   "codemirror_mode": {
    "name": "ipython",
    "version": 3
   },
   "file_extension": ".py",
   "mimetype": "text/x-python",
   "name": "python",
   "nbconvert_exporter": "python",
   "pygments_lexer": "ipython3",
   "version": "3.7.7"
  }
 },
 "nbformat": 4,
 "nbformat_minor": 4
}
