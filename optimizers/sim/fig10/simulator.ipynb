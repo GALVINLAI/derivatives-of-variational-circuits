{
 "cells": [
  {
   "cell_type": "markdown",
   "metadata": {},
   "source": [
    "# Comparing the performance of optimizers"
   ]
  },
  {
   "cell_type": "code",
   "execution_count": 1,
   "metadata": {},
   "outputs": [],
   "source": [
    "import pennylane as qml\n",
    "import numpy as np\n",
    "from qiskit import IBMQ\n",
    "import itertools\n",
    "import matplotlib.pyplot as plt\n",
    "import pickle\n",
    "import scipy"
   ]
  },
  {
   "cell_type": "markdown",
   "metadata": {},
   "source": [
    "## Hardware-friendly circuit"
   ]
  },
  {
   "cell_type": "code",
   "execution_count": 2,
   "metadata": {},
   "outputs": [],
   "source": [
    "n_wires = 5"
   ]
  },
  {
   "cell_type": "code",
   "execution_count": 3,
   "metadata": {},
   "outputs": [],
   "source": [
    "n_shots_list = [10, 100, 1000]\n",
    "devs = [qml.device(\"default.qubit\", wires=n_wires, shots=shots, analytic=False) for shots in n_shots_list]\n",
    "devs.append(qml.device(\"default.qubit\", wires=n_wires))"
   ]
  },
  {
   "cell_type": "code",
   "execution_count": 4,
   "metadata": {},
   "outputs": [
    {
     "data": {
      "text/plain": [
       "[<DefaultQubit device (wires=5, shots=10) at 0x7f5cedd52750>,\n",
       " <DefaultQubit device (wires=5, shots=100) at 0x7f5cedce7090>,\n",
       " <DefaultQubit device (wires=5, shots=1000) at 0x7f5c8cf84250>,\n",
       " <DefaultQubit device (wires=5, shots=1000) at 0x7f5c8cfe59d0>]"
      ]
     },
     "execution_count": 4,
     "metadata": {},
     "output_type": "execute_result"
    }
   ],
   "source": [
    "devs"
   ]
  },
  {
   "cell_type": "code",
   "execution_count": 5,
   "metadata": {},
   "outputs": [],
   "source": [
    "def layers_circ(weights):\n",
    "    for i in range(n_wires):\n",
    "        qml.RX(weights[i], wires=i)\n",
    "\n",
    "    qml.CNOT(wires=[0, 1])\n",
    "    qml.CNOT(wires=[2, 1])\n",
    "    qml.CNOT(wires=[3, 1])\n",
    "    qml.CNOT(wires=[4, 3])\n",
    "    return qml.expval(qml.PauliZ(1))"
   ]
  },
  {
   "cell_type": "code",
   "execution_count": 6,
   "metadata": {},
   "outputs": [],
   "source": [
    "layers = [qml.QNode(layers_circ, d) for d in devs]"
   ]
  },
  {
   "cell_type": "code",
   "execution_count": 7,
   "metadata": {},
   "outputs": [
    {
     "data": {
      "text/plain": [
       "tensor([2.73943676, 0.16289932, 3.4536312 , 2.73521126, 2.6412488 ], requires_grad=True)"
      ]
     },
     "execution_count": 7,
     "metadata": {},
     "output_type": "execute_result"
    }
   ],
   "source": [
    "seed = 2\n",
    "weights = qml.init.basic_entangler_layers_uniform(n_layers=1, n_wires=5, seed=seed).flatten()\n",
    "weights"
   ]
  },
  {
   "cell_type": "code",
   "execution_count": 8,
   "metadata": {},
   "outputs": [],
   "source": [
    "grads = [qml.grad(l, argnum=0) for l in layers]"
   ]
  },
  {
   "cell_type": "code",
   "execution_count": 9,
   "metadata": {},
   "outputs": [
    {
     "data": {
      "text/plain": [
       "[-1.0, -0.8, -0.794, -0.7938055593697134]"
      ]
     },
     "execution_count": 9,
     "metadata": {},
     "output_type": "execute_result"
    }
   ],
   "source": [
    "[l(weights) for l in layers]"
   ]
  },
  {
   "cell_type": "code",
   "execution_count": 10,
   "metadata": {},
   "outputs": [
    {
     "data": {
      "text/plain": [
       "array([-0.3376347,  0.1304665,  0.2560632, -0.3416029,  0.       ])"
      ]
     },
     "execution_count": 10,
     "metadata": {},
     "output_type": "execute_result"
    }
   ],
   "source": [
    "g_exact = np.round(grads[-1](weights), 7)\n",
    "g_exact"
   ]
  },
  {
   "cell_type": "markdown",
   "metadata": {},
   "source": [
    "## Calculating the Hessian"
   ]
  },
  {
   "cell_type": "code",
   "execution_count": 11,
   "metadata": {},
   "outputs": [],
   "source": [
    "s = 0.5 * np.pi\n",
    "denom = 4 * np.sin(s) ** 2\n",
    "shift = np.eye(len(weights))\n",
    "LAMBDA = 0.2 # regulirization parameter for the Hessian\n",
    "lr_gds = 0.15\n",
    "lr_newton = 0.15\n",
    "#weights[0] = 1.8\n",
    "#weights[1] = 2.2\n",
    "weights[0] = 0.1\n",
    "weights[1] = 0.15\n",
    "ARGS = 2\n",
    "\n",
    "\n",
    "\n",
    "def is_pos_def(x):\n",
    "    return np.all(np.linalg.eigvals(x) > 0)\n",
    "\n",
    "\n",
    "# First method\n",
    "def regularize_hess(hess, lr):\n",
    "    return (1 / lr_newton) * (hess + LAMBDA * np.eye(len(hess)))\n",
    "\n",
    "def regularize_diag_hess(hess, lr):\n",
    "    return (1 / lr_newton) * (hess + LAMBDA)\n",
    "\n",
    "# Second method\n",
    "def regularize_hess(hess, lr):\n",
    "    if is_pos_def(hess - LAMBDA * np.eye(len(hess))):\n",
    "        return (1 / lr_newton) * hess\n",
    "    return (1 / lr) * np.eye(len(hess))\n",
    "\n",
    "def regularize_diag_hess(hess, lr):\n",
    "    if np.all(hess - LAMBDA > 0):\n",
    "        return (1 / lr_newton) * hess\n",
    "    return (1 / lr) * np.ones(len(hess))\n",
    "\n",
    "# Third method\n",
    "def regularize_hess(hess, lr):\n",
    "    abs_hess = scipy.linalg.sqrtm(hess @ hess)\n",
    "    return (1 / lr_newton) * (abs_hess + LAMBDA * np.eye(len(hess)))\n",
    "\n",
    "def regularize_diag_hess(hess, lr):\n",
    "    return (1 / lr_newton) * (np.abs(hess) + LAMBDA)\n",
    "\n",
    "# Forth method\n",
    "def regularize_hess(hess, lr):\n",
    "    eig_vals, eig_vects = np.linalg.eig(hess)\n",
    "    epsilon = LAMBDA * np.ones(len(hess))\n",
    "    regul_eig_vals = np.max([eig_vals, epsilon], axis=0)\n",
    "    return (1 / lr_newton) * eig_vects @ np.diag(regul_eig_vals) @ np.linalg.inv(eig_vects)\n",
    "\n",
    "def regularize_diag_hess(hess, lr):\n",
    "    epsilon = LAMBDA * np.ones(len(hess))\n",
    "    return (1 / lr_newton) *  np.max([hess, epsilon], axis=0)\n",
    "\n",
    "\n",
    "\n",
    "def hess_gen_results(func, weights, args=None):\n",
    "    \n",
    "    results = {}\n",
    "    \n",
    "    if not args:\n",
    "        args = len(weights)\n",
    "    \n",
    "    for c in itertools.combinations(range(args), r=2):\n",
    "        weights_pp = weights + s * (shift[c[0]] + shift[c[1]])\n",
    "        weights_pm = weights + s * (shift[c[0]] - shift[c[1]])\n",
    "        weights_mp = weights - s * (shift[c[0]] - shift[c[1]])\n",
    "        weights_mm = weights - s * (shift[c[0]] + shift[c[1]])\n",
    "\n",
    "        f_pp = func(weights_pp)\n",
    "        f_pm = func(weights_pm)\n",
    "        f_mp = func(weights_mp)\n",
    "        f_mm = func(weights_mm)\n",
    "        results[c] = (f_pp, f_mp, f_pm, f_mm)\n",
    "    \n",
    "    f = func(weights)\n",
    "    \n",
    "    for i in range(args):\n",
    "        f_p = func(weights + 0.5 * np.pi * shift[i])\n",
    "        f_m = func(weights - 0.5 * np.pi * shift[i])\n",
    "        results[(i, i)] = (f_p, f_m, f)\n",
    "\n",
    "    return results\n",
    "\n",
    "\n",
    "def hess_diag_gen_results(func, weights, args=None):\n",
    "    \n",
    "    results = {}\n",
    "    \n",
    "    if not args:\n",
    "        args = len(weights)\n",
    "    \n",
    "    f = func(weights)\n",
    "    \n",
    "    for i in range(args):\n",
    "        f_p = func(weights + 0.5 * np.pi * shift[i])\n",
    "        f_m = func(weights - 0.5 * np.pi * shift[i])\n",
    "        results[(i, i)] = (f_p, f_m, f)\n",
    "\n",
    "    return results\n",
    "\n",
    "\n",
    "def grad_gen_results(func, weights, args=None):\n",
    "    results = {}\n",
    "    \n",
    "    if not args:\n",
    "        args = len(weights)\n",
    "    \n",
    "    for i in range(args):\n",
    "        f_p = func(weights + 0.5 * np.pi * shift[i])\n",
    "        f_m = func(weights - 0.5 * np.pi * shift[i])\n",
    "        results[i] = (f_p, f_m)\n",
    "    \n",
    "    return results\n",
    "\n",
    "\n",
    "def get_hess_diag(func, weights, args=None):\n",
    "    if not args:\n",
    "        args = len(weights)\n",
    "        \n",
    "    hess = np.zeros(args)\n",
    "    results = hess_diag_gen_results(func, weights, args)\n",
    "    \n",
    "    for i in range(args):\n",
    "        r = results[(i, i)]\n",
    "        hess[i] = (r[0] + r[1] - 2 * r[2]) / 2\n",
    "    \n",
    "    grad = np.zeros(args)\n",
    "    \n",
    "    for i in range(args):\n",
    "        r = results[(i, i)]\n",
    "        grad[i] = (r[0] - r[1]) / 2\n",
    "    \n",
    "    return hess, results, grad\n",
    "\n",
    "\n",
    "def get_grad(func, weights, args=None):\n",
    "    \n",
    "    if not args:\n",
    "        args = len(weights)\n",
    "    \n",
    "    grad = np.zeros(args)\n",
    "    results = grad_gen_results(func, weights, args)\n",
    "    \n",
    "    for i in range(args):\n",
    "        r = results[i]\n",
    "        grad[i] = (r[0] - r[1]) / 2\n",
    "    \n",
    "    return results, grad\n",
    "    \n",
    "    \n",
    "def get_hess(func, weights, args=None):\n",
    "    \n",
    "    if not args:\n",
    "        args = len(weights)\n",
    "        \n",
    "    hess = np.zeros((args, args))\n",
    "    \n",
    "    results = hess_gen_results(func, weights, args)\n",
    "    \n",
    "    for c in itertools.combinations(range(args), r=2):\n",
    "        r = results[c]\n",
    "        hess[c] = (r[0] - r[1] - r[2] + r[3]) / denom\n",
    "    \n",
    "    hess = hess + hess.T\n",
    "    \n",
    "    for i in range(args):\n",
    "        r = results[(i, i)]\n",
    "        hess[i, i] = (r[0] + r[1] - 2 * r[2]) / 2\n",
    "    \n",
    "    grad = np.zeros(args)\n",
    "    \n",
    "    for i in range(args):\n",
    "        r = results[(i, i)]\n",
    "        grad[i] = (r[0] - r[1]) / 2\n",
    "    \n",
    "    return hess, results, grad"
   ]
  },
  {
   "cell_type": "markdown",
   "metadata": {},
   "source": [
    "## Visualizing optimization surface"
   ]
  },
  {
   "cell_type": "code",
   "execution_count": null,
   "metadata": {},
   "outputs": [],
   "source": [
    "grid = 200\n",
    "xs = np.linspace(- 2 * np.pi, 2 * np.pi, grid)\n",
    "ys = np.linspace(- 2 * np.pi, 2 * np.pi, grid)\n",
    "\n",
    "xv, yv = np.meshgrid(xs, ys)\n",
    "zv = np.zeros((grid, grid))\n",
    "\n",
    "for i in range(grid):\n",
    "    for j in range(grid):\n",
    "        w = weights.copy()\n",
    "        w[0] = xv[i, j]\n",
    "        w[1] = yv[i, j]\n",
    "        zv[i, j] = layers[-1](w)"
   ]
  },
  {
   "cell_type": "code",
   "execution_count": 37,
   "metadata": {},
   "outputs": [],
   "source": [
    "np.savez(\"grid.npz\", xs=xs, ys=ys, zv=zv)"
   ]
  },
  {
   "cell_type": "code",
   "execution_count": 12,
   "metadata": {},
   "outputs": [],
   "source": [
    "g = np.load(\"grid.npz\")\n",
    "xs = g[\"xs\"]\n",
    "ys = g[\"ys\"]\n",
    "zv = g[\"zv\"]"
   ]
  },
  {
   "cell_type": "code",
   "execution_count": 13,
   "metadata": {},
   "outputs": [
    {
     "data": {
      "text/plain": [
       "tensor([0.1       , 0.15      , 3.4536312 , 2.73521126, 2.6412488 ], requires_grad=True)"
      ]
     },
     "execution_count": 13,
     "metadata": {},
     "output_type": "execute_result"
    }
   ],
   "source": [
    "weights"
   ]
  },
  {
   "cell_type": "code",
   "execution_count": 14,
   "metadata": {},
   "outputs": [],
   "source": [
    "def gradient_descent(func, weights, reps, lr, i, args=ARGS):\n",
    "    ws = [weights.copy()]\n",
    "    res_dict = {}\n",
    "    gs = []\n",
    "    costs = [func(weights)]\n",
    "    \n",
    "    for r in range(reps):\n",
    "        res, g = get_grad(func, ws[-1], args)\n",
    "        res_dict[r] = res\n",
    "        gs.append(g)\n",
    "        \n",
    "        w_updated = ws[-1].copy()\n",
    "        w_updated[:args] -= lr * g\n",
    "        \n",
    "        ws.append(w_updated)\n",
    "        costs.append(func(w_updated))\n",
    "        \n",
    "        if r % 5 == 0:\n",
    "            print(\"Calculated for repetition {}\".format(r))\n",
    "    \n",
    "        with open(\"gds_results_{}.pickle\".format(i), \"wb\") as f:\n",
    "            pickle.dump([ws, res, gs, costs], f)\n",
    "    \n",
    "    return ws, res_dict, gs, costs"
   ]
  },
  {
   "cell_type": "code",
   "execution_count": 15,
   "metadata": {},
   "outputs": [
    {
     "name": "stdout",
     "output_type": "stream",
     "text": [
      "Calculating for layer 0\n",
      "Calculated for repetition 0\n",
      "Calculated for repetition 5\n",
      "Calculated for repetition 10\n",
      "Calculated for repetition 15\n",
      "Calculated for repetition 20\n",
      "Calculated for repetition 25\n",
      "Calculated for repetition 30\n",
      "Calculated for repetition 35\n",
      "Calculated for repetition 40\n",
      "Calculated for repetition 45\n",
      "Calculating for layer 1\n",
      "Calculated for repetition 0\n",
      "Calculated for repetition 5\n",
      "Calculated for repetition 10\n",
      "Calculated for repetition 15\n",
      "Calculated for repetition 20\n",
      "Calculated for repetition 25\n",
      "Calculated for repetition 30\n",
      "Calculated for repetition 35\n",
      "Calculated for repetition 40\n",
      "Calculated for repetition 45\n",
      "Calculating for layer 2\n",
      "Calculated for repetition 0\n",
      "Calculated for repetition 5\n",
      "Calculated for repetition 10\n",
      "Calculated for repetition 15\n",
      "Calculated for repetition 20\n",
      "Calculated for repetition 25\n",
      "Calculated for repetition 30\n",
      "Calculated for repetition 35\n",
      "Calculated for repetition 40\n",
      "Calculated for repetition 45\n",
      "Calculating for layer 3\n",
      "Calculated for repetition 0\n",
      "Calculated for repetition 5\n",
      "Calculated for repetition 10\n",
      "Calculated for repetition 15\n",
      "Calculated for repetition 20\n",
      "Calculated for repetition 25\n",
      "Calculated for repetition 30\n",
      "Calculated for repetition 35\n",
      "Calculated for repetition 40\n",
      "Calculated for repetition 45\n"
     ]
    }
   ],
   "source": [
    "reps = 50\n",
    "lr = lr_gds\n",
    "args = ARGS\n",
    "\n",
    "for i, l in enumerate(layers):\n",
    "    print(\"Calculating for layer {}\".format(i))\n",
    "    ws, res, gs, costs = gradient_descent(l, weights, reps, lr, i)"
   ]
  },
  {
   "cell_type": "code",
   "execution_count": 16,
   "metadata": {},
   "outputs": [],
   "source": [
    "def newton(func, weights, reps, lr, i, args=ARGS):\n",
    "    ws = [weights.copy()]\n",
    "    res_dict = {}\n",
    "    gs = []\n",
    "    hs = []\n",
    "    costs = [func(weights)]\n",
    "    \n",
    "    for r in range(reps):\n",
    "        hess_r, res, g = get_hess(func, ws[-1], args)\n",
    "        \n",
    "        res_dict[r] = res\n",
    "        gs.append(g)\n",
    "        hs.append(hess_r)\n",
    "        \n",
    "        w_updated = ws[-1].copy()\n",
    "        hess_regul = regularize_hess(hess_r, lr)\n",
    "        h_inv = np.real(np.linalg.inv(hess_regul))\n",
    "        w_updated[:args] -= h_inv @ g\n",
    "        \n",
    "        ws.append(w_updated)\n",
    "        costs.append(func(w_updated))\n",
    "        \n",
    "        if r % 5 == 0:\n",
    "            print(\"Calculated for repetition {}\".format(r))\n",
    "            \n",
    "        with open(\"new_results_{}.pickle\".format(i), \"wb\") as f:\n",
    "            pickle.dump([ws, res, gs, hs, costs], f)\n",
    "    \n",
    "    return ws, res_dict, gs, hs, costs"
   ]
  },
  {
   "cell_type": "code",
   "execution_count": 17,
   "metadata": {},
   "outputs": [
    {
     "name": "stdout",
     "output_type": "stream",
     "text": [
      "Calculating for layer 0\n",
      "Calculated for repetition 0\n",
      "Calculated for repetition 5\n",
      "Calculated for repetition 10\n",
      "Calculated for repetition 15\n",
      "Calculated for repetition 20\n",
      "Calculated for repetition 25\n",
      "Calculated for repetition 30\n",
      "Calculated for repetition 35\n",
      "Calculated for repetition 40\n",
      "Calculated for repetition 45\n",
      "Calculating for layer 1\n",
      "Calculated for repetition 0\n",
      "Calculated for repetition 5\n",
      "Calculated for repetition 10\n",
      "Calculated for repetition 15\n",
      "Calculated for repetition 20\n",
      "Calculated for repetition 25\n",
      "Calculated for repetition 30\n",
      "Calculated for repetition 35\n",
      "Calculated for repetition 40\n",
      "Calculated for repetition 45\n",
      "Calculating for layer 2\n",
      "Calculated for repetition 0\n",
      "Calculated for repetition 5\n",
      "Calculated for repetition 10\n",
      "Calculated for repetition 15\n",
      "Calculated for repetition 20\n",
      "Calculated for repetition 25\n",
      "Calculated for repetition 30\n",
      "Calculated for repetition 35\n",
      "Calculated for repetition 40\n",
      "Calculated for repetition 45\n",
      "Calculating for layer 3\n",
      "Calculated for repetition 0\n",
      "Calculated for repetition 5\n",
      "Calculated for repetition 10\n",
      "Calculated for repetition 15\n",
      "Calculated for repetition 20\n",
      "Calculated for repetition 25\n",
      "Calculated for repetition 30\n",
      "Calculated for repetition 35\n",
      "Calculated for repetition 40\n",
      "Calculated for repetition 45\n"
     ]
    }
   ],
   "source": [
    "reps = 50\n",
    "lr = lr_gds\n",
    "\n",
    "for i, l in enumerate(layers):\n",
    "    print(\"Calculating for layer {}\".format(i))\n",
    "    ws, res, gs, hs, costs = newton(l, weights, reps, lr, i)"
   ]
  },
  {
   "cell_type": "code",
   "execution_count": 18,
   "metadata": {},
   "outputs": [],
   "source": [
    "def newton_diag(func, weights, reps, lr, ii, args=ARGS):\n",
    "    ws = [weights.copy()]\n",
    "    res_dict = {}\n",
    "    gs = []\n",
    "    hs = []\n",
    "    costs = [func(weights)]\n",
    "    \n",
    "    for r in range(reps):\n",
    "\n",
    "        hess_r, res, g = get_hess_diag(func, ws[-1], args)\n",
    "        \n",
    "        res_dict[r] = res\n",
    "        gs.append(g)\n",
    "        hs.append(hess_r)\n",
    "        \n",
    "        w_updated = ws[-1].copy()\n",
    "        \n",
    "        hess_regul = regularize_diag_hess(hess_r, lr)\n",
    "        update = g / hess_regul\n",
    "        for i in range(len(update)):\n",
    "            if np.isinf(update[i]):\n",
    "                update[i] = 0\n",
    "                \n",
    "        w_updated[:args] -= update\n",
    "     \n",
    "        \n",
    "        ws.append(w_updated)\n",
    "        costs.append(func(w_updated))\n",
    "        \n",
    "        if r % 5 == 0:\n",
    "            print(\"Calculated for repetition {}\".format(r))\n",
    "\n",
    "        with open(\"new_d_results_{}.pickle\".format(ii), \"wb\") as f:\n",
    "            pickle.dump([ws, res, gs, hs, costs], f)\n",
    "    \n",
    "    return ws, res_dict, gs, hs, costs"
   ]
  },
  {
   "cell_type": "code",
   "execution_count": 19,
   "metadata": {},
   "outputs": [
    {
     "name": "stdout",
     "output_type": "stream",
     "text": [
      "Calculating for layer 0\n",
      "Calculated for repetition 0\n",
      "Calculated for repetition 5\n",
      "Calculated for repetition 10\n",
      "Calculated for repetition 15\n",
      "Calculated for repetition 20\n",
      "Calculated for repetition 25\n",
      "Calculated for repetition 30\n",
      "Calculated for repetition 35\n",
      "Calculated for repetition 40\n",
      "Calculated for repetition 45\n",
      "Calculating for layer 1\n",
      "Calculated for repetition 0\n",
      "Calculated for repetition 5\n",
      "Calculated for repetition 10\n",
      "Calculated for repetition 15\n",
      "Calculated for repetition 20\n",
      "Calculated for repetition 25\n",
      "Calculated for repetition 30\n",
      "Calculated for repetition 35\n",
      "Calculated for repetition 40\n",
      "Calculated for repetition 45\n",
      "Calculating for layer 2\n",
      "Calculated for repetition 0\n",
      "Calculated for repetition 5\n",
      "Calculated for repetition 10\n",
      "Calculated for repetition 15\n",
      "Calculated for repetition 20\n",
      "Calculated for repetition 25\n",
      "Calculated for repetition 30\n",
      "Calculated for repetition 35\n",
      "Calculated for repetition 40\n",
      "Calculated for repetition 45\n",
      "Calculating for layer 3\n",
      "Calculated for repetition 0\n",
      "Calculated for repetition 5\n",
      "Calculated for repetition 10\n",
      "Calculated for repetition 15\n",
      "Calculated for repetition 20\n",
      "Calculated for repetition 25\n",
      "Calculated for repetition 30\n",
      "Calculated for repetition 35\n",
      "Calculated for repetition 40\n",
      "Calculated for repetition 45\n"
     ]
    }
   ],
   "source": [
    "reps = 50\n",
    "lr = lr_gds\n",
    "\n",
    "for i, l in enumerate(layers):\n",
    "    print(\"Calculating for layer {}\".format(i))\n",
    "    ws, res, gs, hs, costs = newton_diag(l, weights, reps, lr, i)"
   ]
  }
 ],
 "metadata": {
  "kernelspec": {
   "display_name": "Python 3",
   "language": "python",
   "name": "python3"
  },
  "language_info": {
   "codemirror_mode": {
    "name": "ipython",
    "version": 3
   },
   "file_extension": ".py",
   "mimetype": "text/x-python",
   "name": "python",
   "nbconvert_exporter": "python",
   "pygments_lexer": "ipython3",
   "version": "3.7.7"
  }
 },
 "nbformat": 4,
 "nbformat_minor": 4
}
